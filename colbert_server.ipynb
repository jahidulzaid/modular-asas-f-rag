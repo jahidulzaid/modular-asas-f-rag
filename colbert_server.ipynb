{
 "cells": [
  {
   "cell_type": "code",
   "execution_count": null,
   "id": "initial_id",
   "metadata": {},
   "outputs": [],
   "source": [
    "from flask import Flask, render_template, request\n",
    "from functools import lru_cache\n",
    "import math\n",
    "import os\n",
    "from dotenv import load_dotenv"
   ]
  },
  {
   "cell_type": "code",
   "execution_count": null,
   "id": "329bf84a-5f2b-43ae-9a83-b1981897b1c1",
   "metadata": {},
   "outputs": [],
   "source": [
    "from colbert.infra import Run, RunConfig, ColBERTConfig\n",
    "from colbert import Searcher"
   ]
  },
  {
   "cell_type": "code",
   "execution_count": null,
   "id": "036eac2e-ecc5-4053-b24e-cb7e01d536ff",
   "metadata": {},
   "outputs": [],
   "source": [
    "load_dotenv()\n",
    "os.environ['INDEX_NAME'] = 'saf.train.2bits'\n",
    "os.environ['INDEX_ROOT'] = 'experiments/notebook/indexes'\n",
    "os.environ['PORT'] = '8890'\n",
    "os.environ['COLBERT_LOAD_TORCH_EXTENSION_VERBOSE']='True'"
   ]
  },
  {
   "cell_type": "code",
   "execution_count": null,
   "id": "b222ef02-fa2a-419d-b282-d1ca3519f0fc",
   "metadata": {},
   "outputs": [],
   "source": [
    "INDEX_NAME = os.getenv(\"INDEX_NAME\")\n",
    "INDEX_ROOT = os.getenv(\"INDEX_ROOT\")\n",
    "app = Flask(__name__)"
   ]
  },
  {
   "cell_type": "code",
   "execution_count": null,
   "id": "5fd5a5b2-b804-452b-b399-db877d354ba4",
   "metadata": {},
   "outputs": [],
   "source": [
    "import pandas as pd\n",
    "def create_entry(row):\n",
    "    return 'Input: {\"question\": \"' + str(row['question']) + '\", \"student_answer\": \"' + str(row['student']) + '\", \"reference_answer\": \"' + str(row['reference']) + '\"} Output: {\"label\": \"' + row['label'] + '\", \"numeric_score\": ' + str(row['score']) + ', \"feedback\": \"' + row['feedback'] + '\"}'\n",
    "\n",
    "df = pd.read_csv(\"data/train.csv\")\n",
    "\n",
    "df['Entry'] = df.apply(create_entry, axis=1)\n",
    "entries = df['Entry'].tolist()\n",
    "collection = entries"
   ]
  },
  {
   "cell_type": "code",
   "execution_count": null,
   "id": "597b6886-73c1-45b8-bee4-83f8b4486aea",
   "metadata": {},
   "outputs": [],
   "source": [
    "# searcher = Searcher(index=INDEX_NAME, index_root=INDEX_ROOT)\n",
    "counter = {\"api\" : 0}\n",
    "# /notebook/indexes\n",
    "# config = ColBERTConfig(root=\"experiments\")\n",
    "config = RunConfig(experiment='notebook')\n",
    "searcher = Searcher(index='saf.train.2bits', index_root='experiments/notebook/indexes', collection=collection)"
   ]
  },
  {
   "cell_type": "code",
   "execution_count": null,
   "id": "d7afe268-f7ed-40de-b673-5d2a4029073b",
   "metadata": {},
   "outputs": [],
   "source": [
    "@lru_cache(maxsize=1000000)\n",
    "def api_search_query(query, k):\n",
    "    print(f\"Query={query}\")\n",
    "    if k == None: k = 10\n",
    "    k = min(int(k), 100)\n",
    "    pids, ranks, scores = searcher.search(query, k=100)\n",
    "    pids, ranks, scores = pids[:k], ranks[:k], scores[:k]\n",
    "    print(\"pidis: \", pids)\n",
    "    passages = [searcher.collection[pid] for pid in pids]\n",
    "    probs = [math.exp(score) for score in scores]\n",
    "    probs = [prob / sum(probs) for prob in probs]\n",
    "    topk = []\n",
    "    for pid, rank, score, prob in zip(pids, ranks, scores, probs):\n",
    "        text = searcher.collection[pid]\n",
    "        d = {'text': text, 'pid': pid, 'rank': rank, 'score': score, 'prob': prob}\n",
    "        topk.append(d)\n",
    "    topk = list(sorted(topk, key=lambda p: (-1 * p['score'], p['pid'])))\n",
    "    \n",
    "    return {\"query\" : query, \"topk\": topk}"
   ]
  },
  {
   "cell_type": "code",
   "execution_count": null,
   "id": "427d7813-8b6a-4f83-9e1e-174db83ec9ba",
   "metadata": {},
   "outputs": [],
   "source": [
    "@app.route(\"/api/search\", methods=[\"GET\"])\n",
    "def api_search():\n",
    "    if request.method == \"GET\":\n",
    "        counter[\"api\"] += 1\n",
    "        print(\"API request count:\", counter[\"api\"])\n",
    "        return api_search_query(request.args.get(\"query\"), request.args.get(\"k\"))\n",
    "    else:\n",
    "        return ('', 405)"
   ]
  }
 ],
 "metadata": {
  "kernelspec": {
   "display_name": "server-env",
   "language": "python",
   "name": "server-env"
  },
  "language_info": {
   "codemirror_mode": {
    "name": "ipython",
    "version": 3
   },
   "file_extension": ".py",
   "mimetype": "text/x-python",
   "name": "python",
   "nbconvert_exporter": "python",
   "pygments_lexer": "ipython3",
   "version": "3.10.14"
  }
 },
 "nbformat": 4,
 "nbformat_minor": 5
}
